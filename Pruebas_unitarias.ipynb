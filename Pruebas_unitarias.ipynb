{
  "nbformat": 4,
  "nbformat_minor": 0,
  "metadata": {
    "colab": {
      "provenance": [],
      "authorship_tag": "ABX9TyPHJVWaJ9ltTiMl8SFgH7Ut",
      "include_colab_link": true
    },
    "kernelspec": {
      "name": "python3",
      "display_name": "Python 3"
    },
    "language_info": {
      "name": "python"
    }
  },
  "cells": [
    {
      "cell_type": "markdown",
      "metadata": {
        "id": "view-in-github",
        "colab_type": "text"
      },
      "source": [
        "<a href=\"https://colab.research.google.com/github/VannessaJH/Talleres-Segundo-Corte/blob/main/Pruebas_unitarias.ipynb\" target=\"_parent\"><img src=\"https://colab.research.google.com/assets/colab-badge.svg\" alt=\"Open In Colab\"/></a>"
      ]
    },
    {
      "cell_type": "markdown",
      "source": [
        "#Clases y pruebas unitarias en Python\n"
      ],
      "metadata": {
        "id": "HLQHQKyeC7DT"
      }
    },
    {
      "cell_type": "markdown",
      "source": [
        "##Clase person"
      ],
      "metadata": {
        "id": "rWoQAB5zDJsB"
      }
    },
    {
      "cell_type": "code",
      "source": [
        "from datetime import date\n",
        "\n",
        "class Person:\n",
        "    def __init__(self, n, e, b):\n",
        "        self.__name = n\n",
        "        self.set_email(e)\n",
        "        self.__age = self.calculateAge(b)\n",
        "\n",
        "    def calculateAge(self, b):\n",
        "        days_in_year = 365.2425\n",
        "        age = int ((date.today() - b).days / days_in_year)\n",
        "        return age\n",
        "\n",
        "    def set_email(self, e):\n",
        "        if e.count(\"@\") == 1 and e.find(\"@\") >= 1 and e.find(\"@\") + 2 < e.rfind(\".\"):\n",
        "            self.__email = e\n",
        "        else:\n",
        "            print(\"Invalid Email\", e)\n",
        "\n",
        "    def get_email(self):\n",
        "        return self.__email\n",
        "\n",
        "    def get_name(self):\n",
        "        return self.__name\n",
        "\n",
        "    def set_name(self, n):\n",
        "        self.__name = n\n",
        "\n",
        "    def get_age(self):\n",
        "        return self.__age\n",
        "\n",
        "    def __eq__(self, other):\n",
        "        return self.__name == other.__name\n",
        "\n",
        "    def __str__(self):\n",
        "        return(\"name: \" + self.__name + '\\t Email: -' +  self.__email+ '\\t Age: ' + str(self.__age))"
      ],
      "metadata": {
        "id": "KzPEQrNMDGN3"
      },
      "execution_count": null,
      "outputs": []
    },
    {
      "cell_type": "markdown",
      "source": [
        "##Clase Student"
      ],
      "metadata": {
        "id": "YV4dsSLWHZTz"
      }
    },
    {
      "cell_type": "code",
      "execution_count": null,
      "metadata": {
        "id": "qYdkq6bLCzi8"
      },
      "outputs": [],
      "source": [
        "class Student (Person):\n",
        "    def __init__(self, n, e, b, ID):\n",
        "        Person.__init__(self, n, e, b)\n",
        "        self.__SID = ID\n",
        "        self.__Courses = dict()\n",
        "        self.__AverageGrade = 0\n",
        "\n",
        "    def addCourse (self, CourseID, result):\n",
        "        self.__Courses[CourseID] = result\n",
        "        self.calculateAverage()\n",
        "\n",
        "    def calculateAverage(self):\n",
        "        sum = 0\n",
        "        for g in self.__Courses.values():\n",
        "            sum += g\n",
        "        self.__AverageGrade = sum / len (self.__Courses)\n",
        "\n",
        "    def getAverageGrade(self):\n",
        "        return self.__AverageGrade\n",
        "\n",
        "    def get_SID(self):\n",
        "        return self.__SID\n",
        "\n",
        "    def get_Courses(self):\n",
        "        return self.__Courses\n",
        "\n",
        "    def set_SID(self, ID):\n",
        "        self.__SID = ID\n",
        "\n",
        "    def __str__(self):\n",
        "        return (Person.__str__(self) + '\\t-SID:-' + str(self.__SID) + '\\t-Courses:-' + str(self.__Courses) + '\\t-Average Grade:-' + str(self.__AverageGrade))\n",
        "\n",
        "    def __lt__(self, other):\n",
        "        return self.__AverageGrade < other.__AverageGrade"
      ]
    },
    {
      "cell_type": "markdown",
      "source": [
        "##Uso y Ejemplo de Búsqueda"
      ],
      "metadata": {
        "id": "eP0svM5kKW-2"
      }
    },
    {
      "cell_type": "code",
      "source": [
        "list = []\n",
        "S1 = Student(\"khouloud\", \"kh@hotmail.com\", date(1995, 2, 3), 123)\n",
        "S1.addCourse(\"CS120\", 90)\n",
        "S1.addCourse(\"IT320\", 95)\n",
        "S1. addCourse(\"CS100\", 95)\n",
        "\n",
        "S2 = Student(\"khadija\", \"khadija@gmail.com\", date(1995, 9, 3), 232)\n",
        "S2.addCourse(\"CS120\", 80)\n",
        "S2.addCourse(\"IT320\", 75)\n",
        "S2. addCourse(\"CS100\", 95)\n",
        "\n",
        "S3 = Student(\"khaled\", \"khaled@gmail.com\", date(1999, 5, 6), 235)\n",
        "S3.addCourse(\"CS120\", 75)\n",
        "S3.addCourse(\"IT320\", 88)\n",
        "S3.addCourse(\"CS100\", 90)\n",
        "\n",
        "list.append(S1)\n",
        "list.append(S2)\n",
        "list.append(S3)\n",
        "\n",
        "searchs = Student(\"Khadija\", \"moh@gmail.com\", date(1980, 5, 6), 555)\n",
        "\n",
        "if list.count(searchs) > 0:\n",
        "    print(\"The student is found\")\n",
        "else:\n",
        "    print(\"The student is NOT found\")\n",
        "\n",
        "list.sort()\n",
        "for p in list:\n",
        "    print(p)"
      ],
      "metadata": {
        "id": "t4oDcFqbKZ1b",
        "colab": {
          "base_uri": "https://localhost:8080/"
        },
        "outputId": "23af88b6-7ae3-4e51-f3d3-9e2203997e49"
      },
      "execution_count": null,
      "outputs": [
        {
          "output_type": "stream",
          "name": "stdout",
          "text": [
            "The student is NOT found\n",
            "name: khadija\t Email: -khadija@gmail.com\t Age: 30\t-SID:-232\t-Courses:-{'CS120': 80, 'IT320': 75, 'CS100': 95}\t-Average Grade:-83.33333333333333\n",
            "name: khaled\t Email: -khaled@gmail.com\t Age: 26\t-SID:-235\t-Courses:-{'CS120': 75, 'IT320': 88, 'CS100': 90}\t-Average Grade:-84.33333333333333\n",
            "name: khouloud\t Email: -kh@hotmail.com\t Age: 30\t-SID:-123\t-Courses:-{'CS120': 90, 'IT320': 95, 'CS100': 95}\t-Average Grade:-93.33333333333333\n"
          ]
        }
      ]
    },
    {
      "cell_type": "markdown",
      "source": [
        "##Instalación de pytest"
      ],
      "metadata": {
        "id": "R9XGW7c9hV60"
      }
    },
    {
      "cell_type": "code",
      "source": [
        "pip install pytest"
      ],
      "metadata": {
        "colab": {
          "base_uri": "https://localhost:8080/"
        },
        "id": "hLpxv5ncMuC3",
        "outputId": "b437d067-f330-4a5d-eec6-8ff0847a1eb7"
      },
      "execution_count": null,
      "outputs": [
        {
          "output_type": "stream",
          "name": "stdout",
          "text": [
            "Traceback (most recent call last):\n",
            "  File \"/usr/local/lib/python3.12/dist-packages/pip/_internal/cli/base_command.py\", line 179, in exc_logging_wrapper\n",
            "    status = run_func(*args)\n",
            "             ^^^^^^^^^^^^^^^\n",
            "  File \"/usr/local/lib/python3.12/dist-packages/pip/_internal/cli/req_command.py\", line 67, in wrapper\n",
            "    return func(self, options, args)\n",
            "           ^^^^^^^^^^^^^^^^^^^^^^^^^\n",
            "  File \"/usr/local/lib/python3.12/dist-packages/pip/_internal/commands/install.py\", line 362, in run\n",
            "    resolver = self.make_resolver(\n",
            "               ^^^^^^^^^^^^^^^^^^^\n",
            "  File \"/usr/local/lib/python3.12/dist-packages/pip/_internal/cli/req_command.py\", line 177, in make_resolver\n",
            "    return pip._internal.resolution.resolvelib.resolver.Resolver(\n",
            "           ^^^^^^^^^^^^^^^^^^^^^^^^^^^^^^^^^^^^^^^^^^^^^^^^^^^^^^\n",
            "  File \"/usr/local/lib/python3.12/dist-packages/pip/_internal/resolution/resolvelib/resolver.py\", line 58, in __init__\n",
            "    self.factory = Factory(\n",
            "                   ^^^^^^^^\n",
            "  File \"/usr/local/lib/python3.12/dist-packages/pip/_internal/resolution/resolvelib/factory.py\", line 129, in __init__\n",
            "    for dist in env.iter_installed_distributions(local_only=False)\n",
            "                ^^^^^^^^^^^^^^^^^^^^^^^^^^^^^^^^^^^^^^^^^^^^^^^^^^\n",
            "  File \"/usr/local/lib/python3.12/dist-packages/pip/_internal/metadata/base.py\", line 664, in <genexpr>\n",
            "    return (d for d in it if d.canonical_name not in skip)\n",
            "                       ^^\n",
            "  File \"/usr/local/lib/python3.12/dist-packages/pip/_internal/metadata/base.py\", line 612, in iter_all_distributions\n",
            "    for dist in self._iter_distributions():\n",
            "                ^^^^^^^^^^^^^^^^^^^^^^^^^^\n",
            "  File \"/usr/local/lib/python3.12/dist-packages/pip/_internal/metadata/importlib/_envs.py\", line 176, in _iter_distributions\n",
            "    yield from finder.find(location)\n",
            "  File \"/usr/local/lib/python3.12/dist-packages/pip/_internal/metadata/importlib/_envs.py\", line 79, in find\n",
            "    for dist, info_location in self._find_impl(location):\n",
            "                               ^^^^^^^^^^^^^^^^^^^^^^^^^\n",
            "  File \"/usr/local/lib/python3.12/dist-packages/pip/_internal/metadata/importlib/_envs.py\", line 64, in _find_impl\n",
            "    raw_name = get_dist_name(dist)\n",
            "               ^^^^^^^^^^^^^^^^^^^\n",
            "  File \"/usr/local/lib/python3.12/dist-packages/pip/_internal/metadata/importlib/_compat.py\", line 52, in get_dist_name\n",
            "    name = cast(Any, dist).name\n",
            "           ^^^^^^^^^^^^^^^^^^^^\n",
            "  File \"/usr/lib/python3.12/importlib/metadata/__init__.py\", line 457, in name\n",
            "    return self.metadata['Name']\n",
            "           ^^^^^^^^^^^^^\n",
            "  File \"/usr/lib/python3.12/importlib/metadata/__init__.py\", line 452, in metadata\n",
            "    return _adapters.Message(email.message_from_string(text))\n",
            "                             ^^^^^^^^^^^^^^^^^^^^^^^^^^^^^^^\n",
            "  File \"/usr/lib/python3.12/email/__init__.py\", line 37, in message_from_string\n",
            "    return Parser(*args, **kws).parsestr(s)\n",
            "           ^^^^^^^^^^^^^^^^^^^^^^^^^^^^^^^^\n",
            "  File \"/usr/lib/python3.12/email/parser.py\", line 64, in parsestr\n",
            "    return self.parse(StringIO(text), headersonly=headersonly)\n",
            "           ^^^^^^^^^^^^^^^^^^^^^^^^^^^^^^^^^^^^^^^^^^^^^^^^^^^\n",
            "  File \"/usr/lib/python3.12/email/parser.py\", line 53, in parse\n",
            "    feedparser.feed(data)\n",
            "  File \"/usr/lib/python3.12/email/feedparser.py\", line 173, in feed\n",
            "    self._input.push(data)\n",
            "  File \"/usr/lib/python3.12/email/feedparser.py\", line 109, in push\n",
            "    parts = self._partial.readlines()\n",
            "            ^^^^^^^^^^^^^^^^^^^^^^^^^\n",
            "KeyboardInterrupt\n",
            "\n",
            "During handling of the above exception, another exception occurred:\n",
            "\n",
            "Traceback (most recent call last):\n",
            "  File \"/usr/local/bin/pip3\", line 10, in <module>\n",
            "    sys.exit(main())\n",
            "             ^^^^^^\n",
            "  File \"/usr/local/lib/python3.12/dist-packages/pip/_internal/cli/main.py\", line 80, in main\n",
            "    return command.main(cmd_args)\n",
            "           ^^^^^^^^^^^^^^^^^^^^^^\n",
            "  File \"/usr/local/lib/python3.12/dist-packages/pip/_internal/cli/base_command.py\", line 100, in main\n",
            "    return self._main(args)\n",
            "           ^^^^^^^^^^^^^^^^\n",
            "  File \"/usr/local/lib/python3.12/dist-packages/pip/_internal/cli/base_command.py\", line 232, in _main\n",
            "    return run(options, args)\n",
            "           ^^^^^^^^^^^^^^^^^^\n",
            "  File \"/usr/local/lib/python3.12/dist-packages/pip/_internal/cli/base_command.py\", line 215, in exc_logging_wrapper\n",
            "    logger.critical(\"Operation cancelled by user\")\n",
            "  File \"/usr/lib/python3.12/logging/__init__.py\", line 1586, in critical\n",
            "    self._log(CRITICAL, msg, args, **kwargs)\n",
            "  File \"/usr/lib/python3.12/logging/__init__.py\", line 1684, in _log\n",
            "    self.handle(record)\n",
            "  File \"/usr/lib/python3.12/logging/__init__.py\", line 1700, in handle\n",
            "    self.callHandlers(record)\n",
            "  File \"/usr/lib/python3.12/logging/__init__.py\", line 1762, in callHandlers\n",
            "    hdlr.handle(record)\n",
            "  File \"/usr/lib/python3.12/logging/__init__.py\", line 1028, in handle\n",
            "    self.emit(record)\n",
            "  File \"/usr/local/lib/python3.12/dist-packages/pip/_internal/utils/logging.py\", line 177, in emit\n",
            "    self.console.print(renderable, overflow=\"ignore\", crop=False, style=style)\n",
            "  File \"/usr/local/lib/python3.12/dist-packages/pip/_vendor/rich/console.py\", line 1674, in print\n",
            "    renderables = self._collect_renderables(\n",
            "                  ^^^^^^^^^^^^^^^^^^^^^^^^^^\n",
            "  File \"/usr/local/lib/python3.12/dist-packages/pip/_vendor/rich/console.py\", line 1535, in _collect_renderables\n",
            "    renderable = rich_cast(renderable)\n",
            "                 ^^^^^^^^^^^^^^^^^^^^^\n",
            "  File \"/usr/local/lib/python3.12/dist-packages/pip/_vendor/rich/protocol.py\", line 19, in rich_cast\n",
            "    def rich_cast(renderable: object) -> \"RenderableType\":\n",
            "    \n",
            "KeyboardInterrupt\n",
            "^C\n"
          ]
        }
      ]
    },
    {
      "cell_type": "markdown",
      "source": [
        "##Escribiendo pruebas unitarias"
      ],
      "metadata": {
        "id": "XutGt5szhZSS"
      }
    },
    {
      "cell_type": "code",
      "source": [
        "%%file test_classes.py\n",
        "import pytest\n",
        "\n",
        "from datetime import date\n",
        "#from classes import Person, Student\n",
        "\n",
        "#Pruebas para la clase Person\n",
        "def test_person_creation ():\n",
        "    person = Person(\"John Doe\", \"john@example.com\", date(1990, 5, 20))\n",
        "    assert person.get_name() == \"John Doe\", \"El nombre no se está almacenando de forma correcta\"\n",
        "    assert person.get_email() == \"john@example.com\", \"El email no se está almacenando de forma correcta\"\n",
        "    assert person.get_age() == person.calculateAge(date(1990, 5, 20)), \"La edad no se está almacenando de forma correcta\"\n",
        "\n",
        "def test_person_email_validation():\n",
        "    person = Person(\"Jane Doe\", \"invalid email\", date(1992, 3, 15))\n",
        "    assert person.get_email() == None #No debe aceptar un correo inválido\n",
        "\n",
        "#Pruebas para la clase Student\n",
        "\n",
        "def test_student_creation():\n",
        "    student = Student(\"Alice\", \"alice@example.com\", date(2000, 1, 1), 12345)\n",
        "    assert student.get_name() == \"Alice\"\n",
        "    assert student.get_SID() == 12345\n",
        "    assert student.get_AverageGrade() == 0.0 #Recién creado no tiene notas\n",
        "\n",
        "def test_student_add_course():\n",
        "    student = Student(\"Bob\", \"bob@example.com\", date(1998, 6, 12), 67890)\n",
        "    student.addCourse(\"CS101\", 90)\n",
        "    student.addCourse(\"Math101\", 85)\n",
        "    assert len(student.get_Courses()) == 2\n",
        "    assert student.get__AverageGrade() == 87.5\n"
      ],
      "metadata": {
        "id": "LjVD0bIPheP1",
        "colab": {
          "base_uri": "https://localhost:8080/"
        },
        "outputId": "583c50fb-50fa-485b-f1a7-75db504148f9"
      },
      "execution_count": null,
      "outputs": [
        {
          "output_type": "stream",
          "name": "stdout",
          "text": [
            "Writing test_classes.py\n"
          ]
        }
      ]
    },
    {
      "cell_type": "code",
      "source": [],
      "metadata": {
        "id": "D1yTIMDbcN5c"
      },
      "execution_count": null,
      "outputs": []
    }
  ]
}