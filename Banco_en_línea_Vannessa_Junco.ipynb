{
  "nbformat": 4,
  "nbformat_minor": 0,
  "metadata": {
    "colab": {
      "provenance": [],
      "authorship_tag": "ABX9TyNX+RSd+iFDDAh5uLVck0wg",
      "include_colab_link": true
    },
    "kernelspec": {
      "name": "python3",
      "display_name": "Python 3"
    },
    "language_info": {
      "name": "python"
    }
  },
  "cells": [
    {
      "cell_type": "markdown",
      "metadata": {
        "id": "view-in-github",
        "colab_type": "text"
      },
      "source": [
        "<a href=\"https://colab.research.google.com/github/VannessaJH/Talleres-Segundo-Corte/blob/main/Banco_en_l%C3%ADnea_Vannessa_Junco.ipynb\" target=\"_parent\"><img src=\"https://colab.research.google.com/assets/colab-badge.svg\" alt=\"Open In Colab\"/></a>"
      ]
    },
    {
      "cell_type": "markdown",
      "source": [
        "#Taller: Banco en línea\n",
        "###Implementación de las clases"
      ],
      "metadata": {
        "id": "-Rg5sCMEm-p9"
      }
    },
    {
      "cell_type": "code",
      "execution_count": null,
      "metadata": {
        "id": "ImUdR262mfq5"
      },
      "outputs": [],
      "source": [
        "import hashlib\n",
        "\n",
        "class Usuario:\n",
        "    \"\"\"Representa a un usuario del sistema de banco en línea\"\"\"\n",
        "\n",
        "    def __init__ (self, nombre, email):\n",
        "        \"\"\"Inicializa los atributos nombre y email\"\"\"\n",
        "\n",
        "        #self.id\n",
        "        self.nombre = nombre\n",
        "        self.email = email\n",
        "        self.password_hash = \"\"\n",
        "\n",
        "    def registrarse(self):\n",
        "        \"\"\"Imprime un mensaje confirmando el registro del usuario en el sistema\"\"\"\n",
        "        print (f\"El usuario {self.nombre}: se ha registrado con éxito\")\n",
        "\n",
        "    def set_password(self, password):\n",
        "        \"\"\"Genera y almacena un hash seguro de la contraseña proporcionada por el usuario mediante el módulo hashlib\"\"\"\n",
        "        password_hash = hashlib.sha224(b\"{password}\").hexdigest()\n",
        "\n",
        "    def check_password(self, password):\n",
        "        \"\"\"Verifica si la contraseña proporcionada por el usuario coincide con el hash almacenado\"\"\"\n",
        "        password_entered = hashlib.sha224(b\"{password}\").hexdigest()\n",
        "        if (password_entered == self.password_hash):\n",
        "          return True\n",
        "        else:\n",
        "          return False\n",
        "\n",
        "\n",
        "\n"
      ]
    },
    {
      "cell_type": "code",
      "source": [
        "class CuentaBancaria:\n",
        "\n",
        "    \"\"\"Representa a un usuario del sistema de banco en línea\"\"\"\n",
        "    saldo = 0\n",
        "    usuario_id = 0\n",
        "\n",
        "    def __init__(self, numero_cuenta, usuario: Usuario):\n",
        "        \"\"\"Constructor que inicializa los atributos numero_cuenta, usuario y establece el saldo inicial en 0\"\"\"\n",
        "        self.numero_cuenta = numero_cuenta\n",
        "        self.saldo = 0\n",
        "        self.usuario = usuario\n",
        "\n",
        "    def depositar(self, monto):\n",
        "        \"\"\"Incrementa el saldo de la cuenta en la cantidad especificada y muestra el nuevo saldo\"\"\"\n",
        "        self.saldo += monto\n",
        "        print(f\"Depositado ${monto}. Nuevo saldo: ${self.saldo}\")\n",
        "\n",
        "    def retirar(self, monto):\n",
        "        \"\"\"Disminuye el saldo de la cuenta en la cantidad especificada, si hay fondos suficientes, de lo contrario, genera un error\"\"\"\n",
        "        if monto <= self.saldo:\n",
        "            self.saldo -= monto\n",
        "            print(f\"Retirado ${monto}. Nuevo saldo: ${self.saldo}\")\n",
        "        else:\n",
        "            print(\"¡Fondos insuficientes!\")\n",
        "\n",
        "    def consultar_saldo(self):\n",
        "        \"\"\"Retorna el saldo actual de la cuenta y lo muestra en la consola\"\"\"\n",
        "        print(f\"Su saldo actual es {self.saldo} \")\n",
        "\n",
        "    def realizar_transferencia(self, cuenta_origen: CuentaBancaria, cuenta_destino: CuentaBancaria, cantidad):\n",
        "        \"\"\"Realiza una transferencia de fondos entre dos cuentas bancarias\"\"\"\n",
        "        self.retirar(cantidad)\n",
        "        cuenta_destino.depositar(cantidad)\n",
        "        print(f\"Transferencia exitosa, su saldo actual es: {self.saldo}\")\n"
      ],
      "metadata": {
        "id": "jV-ieNrxoWIR",
        "colab": {
          "base_uri": "https://localhost:8080/",
          "height": 332
        },
        "outputId": "69f14d5e-95a7-475e-9077-e9f7a6905f0c"
      },
      "execution_count": null,
      "outputs": [
        {
          "output_type": "error",
          "ename": "NameError",
          "evalue": "name 'CuentaBancaria' is not defined",
          "traceback": [
            "\u001b[0;31m---------------------------------------------------------------------------\u001b[0m",
            "\u001b[0;31mNameError\u001b[0m                                 Traceback (most recent call last)",
            "\u001b[0;32m/tmp/ipython-input-2237646511.py\u001b[0m in \u001b[0;36m<cell line: 0>\u001b[0;34m()\u001b[0m\n\u001b[0;32m----> 1\u001b[0;31m \u001b[0;32mclass\u001b[0m \u001b[0mCuentaBancaria\u001b[0m\u001b[0;34m:\u001b[0m\u001b[0;34m\u001b[0m\u001b[0;34m\u001b[0m\u001b[0m\n\u001b[0m\u001b[1;32m      2\u001b[0m \u001b[0;34m\u001b[0m\u001b[0m\n\u001b[1;32m      3\u001b[0m     \u001b[0;34m\"\"\"Representa a un usuario del sistema de banco en línea\"\"\"\u001b[0m\u001b[0;34m\u001b[0m\u001b[0;34m\u001b[0m\u001b[0m\n\u001b[1;32m      4\u001b[0m     \u001b[0msaldo\u001b[0m \u001b[0;34m=\u001b[0m \u001b[0;36m0\u001b[0m\u001b[0;34m\u001b[0m\u001b[0;34m\u001b[0m\u001b[0m\n\u001b[1;32m      5\u001b[0m     \u001b[0musuario_id\u001b[0m \u001b[0;34m=\u001b[0m \u001b[0;36m0\u001b[0m\u001b[0;34m\u001b[0m\u001b[0;34m\u001b[0m\u001b[0m\n",
            "\u001b[0;32m/tmp/ipython-input-2237646511.py\u001b[0m in \u001b[0;36mCuentaBancaria\u001b[0;34m()\u001b[0m\n\u001b[1;32m     28\u001b[0m         \u001b[0mprint\u001b[0m\u001b[0;34m(\u001b[0m\u001b[0;34mf\"Su saldo actual es {self.saldo} \"\u001b[0m\u001b[0;34m)\u001b[0m\u001b[0;34m\u001b[0m\u001b[0;34m\u001b[0m\u001b[0m\n\u001b[1;32m     29\u001b[0m \u001b[0;34m\u001b[0m\u001b[0m\n\u001b[0;32m---> 30\u001b[0;31m     \u001b[0;32mdef\u001b[0m \u001b[0mrealizar_transferencia\u001b[0m\u001b[0;34m(\u001b[0m\u001b[0mself\u001b[0m\u001b[0;34m,\u001b[0m \u001b[0mcuenta_origen\u001b[0m\u001b[0;34m:\u001b[0m \u001b[0mCuentaBancaria\u001b[0m\u001b[0;34m,\u001b[0m \u001b[0mcuenta_destino\u001b[0m\u001b[0;34m:\u001b[0m \u001b[0mCuentaBancaria\u001b[0m\u001b[0;34m,\u001b[0m \u001b[0mcantidad\u001b[0m\u001b[0;34m)\u001b[0m\u001b[0;34m:\u001b[0m\u001b[0;34m\u001b[0m\u001b[0;34m\u001b[0m\u001b[0m\n\u001b[0m\u001b[1;32m     31\u001b[0m         \u001b[0;34m\"\"\"Realiza una transferencia de fondos entre dos cuentas bancarias\"\"\"\u001b[0m\u001b[0;34m\u001b[0m\u001b[0;34m\u001b[0m\u001b[0m\n\u001b[1;32m     32\u001b[0m         \u001b[0mself\u001b[0m\u001b[0;34m.\u001b[0m\u001b[0mretirar\u001b[0m\u001b[0;34m(\u001b[0m\u001b[0mcantidad\u001b[0m\u001b[0;34m)\u001b[0m\u001b[0;34m\u001b[0m\u001b[0;34m\u001b[0m\u001b[0m\n",
            "\u001b[0;31mNameError\u001b[0m: name 'CuentaBancaria' is not defined"
          ]
        }
      ]
    },
    {
      "cell_type": "code",
      "source": [
        "import random\n",
        "\n",
        "class Banco:\n",
        "    \"\"\"Representa la entidad bancaria que gestiona las cuentas bancarias y realiza operaciones entre ellas\"\"\"\n",
        "\n",
        "    def __init__(self, nombre):\n",
        "        self.nombre = nombre\n",
        "        self.cuentas = []\n",
        "\n",
        "\n",
        "    def abrir_cuenta(self, usuario: Usuario):\n",
        "        \"\"\"Crea una nueva cuenta bancaria para un usuario dado, asigna un número de cuenta único y la añade a la lista de cuentas del banco\"\"\"\n",
        "\n",
        "        numero_cuenta = \"\"\n",
        "\n",
        "        for _ in range(8):\n",
        "          numero_cuenta = random.randint(0,9)\n",
        "\n",
        "        cuenta = CuentaBancaria(numero_cuenta, usuario)\n",
        "        self.cuentas.append(cuenta)\n",
        "        return cuenta\n",
        "\n",
        "    def buscar_cuenta(self, numero_cuenta):\n",
        "        \"\"\"Busca una cuenta bancaria en la lista de cuentas por su número de cuenta. Si la encuentra, la retorna; si no, retorna None\"\"\"\n",
        "\n",
        "        cuentas_diccionario = dict(self.cuentas)\n",
        "        numeros_cuentas = cuentas_diccionario.keys()\n",
        "\n",
        "        for i in numeros_cuentas:\n",
        "            if i == numero_cuenta:\n",
        "                return i\n",
        "            else:\n",
        "                return None\n",
        "\n"
      ],
      "metadata": {
        "id": "UApvj5V07J-u"
      },
      "execution_count": null,
      "outputs": []
    },
    {
      "cell_type": "markdown",
      "source": [
        "###**Creación instancia de la clase banco**"
      ],
      "metadata": {
        "id": "plcG6mAM2f_b"
      }
    },
    {
      "cell_type": "code",
      "source": [
        "banco1 = Banco(\"Bogotá\")"
      ],
      "metadata": {
        "id": "vODNyZZKyuL7"
      },
      "execution_count": null,
      "outputs": []
    },
    {
      "cell_type": "markdown",
      "source": [
        "###**Creación de usuarios**"
      ],
      "metadata": {
        "id": "-n4tW3GL1g7y"
      }
    },
    {
      "cell_type": "code",
      "source": [
        "usuario1 = Usuario(\"Felipe Suárez\", \"fsuarez@h.com\")\n",
        "usuario1.registrarse()\n",
        "usuario1.set_password(\"Perritos123\")\n"
      ],
      "metadata": {
        "colab": {
          "base_uri": "https://localhost:8080/"
        },
        "id": "IjDV8D9h0OvO",
        "outputId": "7e931f3f-4bc0-467a-8bf6-c56d1e7c97c8"
      },
      "execution_count": null,
      "outputs": [
        {
          "output_type": "stream",
          "name": "stdout",
          "text": [
            "El usuario Felipe Suárez: se ha registrado con éxito\n"
          ]
        }
      ]
    },
    {
      "cell_type": "code",
      "source": [
        "usuario2 = Usuario(\"Santiago Morales\", \"smorales@h.com\")\n",
        "usuario2.registrarse()\n",
        "usuario2.set_password(\"Papaconyuca\")\n"
      ],
      "metadata": {
        "colab": {
          "base_uri": "https://localhost:8080/"
        },
        "id": "PN0Hxt311yIZ",
        "outputId": "d017b0d5-788e-413b-c7e0-a0a1df9db0e9"
      },
      "execution_count": null,
      "outputs": [
        {
          "output_type": "stream",
          "name": "stdout",
          "text": [
            "El usuario Santiago Morales: se ha registrado con éxito\n"
          ]
        }
      ]
    },
    {
      "cell_type": "code",
      "source": [
        "usuario3 = Usuario(\"Sebastián González\", \"sgonzález@h.com\")\n",
        "usuario3.registrarse()\n",
        "usuario3.set_password(\"cookiesncream\")"
      ],
      "metadata": {
        "colab": {
          "base_uri": "https://localhost:8080/"
        },
        "id": "t202FR6U2nMl",
        "outputId": "a9cf58a8-f076-4227-98d5-b22d75a48b7e"
      },
      "execution_count": null,
      "outputs": [
        {
          "output_type": "stream",
          "name": "stdout",
          "text": [
            "El usuario Sebastián González: se ha registrado con éxito\n"
          ]
        }
      ]
    },
    {
      "cell_type": "code",
      "source": [
        "usuario4 = Usuario(\"Lucía Mendoza\", \"lmendoza@h.com\")\n",
        "usuario4.registrarse()\n",
        "usuario4.set_password(\"notebook\")"
      ],
      "metadata": {
        "colab": {
          "base_uri": "https://localhost:8080/"
        },
        "id": "FPii-saJ2nBp",
        "outputId": "8a12c9a6-2876-4711-865f-d31f27765219"
      },
      "execution_count": null,
      "outputs": [
        {
          "output_type": "stream",
          "name": "stdout",
          "text": [
            "El usuario Lucía Mendoza: se ha registrado con éxito\n"
          ]
        }
      ]
    },
    {
      "cell_type": "code",
      "source": [
        "usuario5 = Usuario(\"Sofía Ramírez\", \"sramirez@h.com\")\n",
        "usuario5.registrarse()\n",
        "usuario5.set_password(\"pythonic\")\n"
      ],
      "metadata": {
        "colab": {
          "base_uri": "https://localhost:8080/"
        },
        "id": "6gX4LGIB2m2e",
        "outputId": "dc186c1a-f8a0-4aa0-d7e1-450083da0cac"
      },
      "execution_count": null,
      "outputs": [
        {
          "output_type": "stream",
          "name": "stdout",
          "text": [
            "El usuario Sofía Ramírez: se ha registrado con éxito\n"
          ]
        }
      ]
    },
    {
      "cell_type": "code",
      "source": [
        "usuario6 = Usuario(\"Fernanda López\", \"flopez@h.com\")\n",
        "usuario6.registrarse()\n",
        "usuario6.set_password(\"javascript\")"
      ],
      "metadata": {
        "id": "HlqMFCDl2mrE",
        "colab": {
          "base_uri": "https://localhost:8080/"
        },
        "outputId": "5614658a-bf2c-4843-e75f-23d16d97d5e8"
      },
      "execution_count": null,
      "outputs": [
        {
          "output_type": "stream",
          "name": "stdout",
          "text": [
            "El usuario Fernanda López: se ha registrado con éxito\n"
          ]
        }
      ]
    },
    {
      "cell_type": "code",
      "source": [
        "usuario7 = Usuario(\"Valentina Castillo\", \"vcastillo@h.com\")\n",
        "usuario7.registrarse()\n",
        "usuario7.set_password(\"linuxgnu\")"
      ],
      "metadata": {
        "id": "2dWe0ud52la1",
        "colab": {
          "base_uri": "https://localhost:8080/"
        },
        "outputId": "5212b341-4fcd-4588-f0b3-48351fab66c2"
      },
      "execution_count": null,
      "outputs": [
        {
          "output_type": "stream",
          "name": "stdout",
          "text": [
            "El usuario Valentina Castillo: se ha registrado con éxito\n"
          ]
        }
      ]
    },
    {
      "cell_type": "code",
      "source": [
        "usuario8 = Usuario(\"Eduardo Herrera\", \"eherrera@h.com\")\n",
        "usuario8.registrarse()\n",
        "usuario8.set_password(\"avispas\")"
      ],
      "metadata": {
        "id": "Gz1Chhgy2lN-",
        "colab": {
          "base_uri": "https://localhost:8080/"
        },
        "outputId": "9ef45179-e313-417a-d96a-17b569e4cbd4"
      },
      "execution_count": null,
      "outputs": [
        {
          "output_type": "stream",
          "name": "stdout",
          "text": [
            "El usuario Eduardo Herrera: se ha registrado con éxito\n"
          ]
        }
      ]
    },
    {
      "cell_type": "code",
      "source": [
        "usuario9 = Usuario(\"Adriana Duarte\", \"aduarte@h.com\")\n",
        "usuario9.registrarse()\n",
        "usuario9.set_password(\"devnet\")"
      ],
      "metadata": {
        "id": "6SS3HLTh2kyq",
        "colab": {
          "base_uri": "https://localhost:8080/"
        },
        "outputId": "2403b062-8e2b-4da0-d36b-26f132e93e7d"
      },
      "execution_count": null,
      "outputs": [
        {
          "output_type": "stream",
          "name": "stdout",
          "text": [
            "El usuario Adriana Duarte: se ha registrado con éxito\n"
          ]
        }
      ]
    },
    {
      "cell_type": "code",
      "source": [
        "usuario10 = Usuario(\"Luis Sánchez\", \"lsanchez@h.com\")\n",
        "usuario10.registrarse()\n",
        "usuario10.set_password(\"hashlib\")"
      ],
      "metadata": {
        "id": "qNIo8TGY22TJ",
        "colab": {
          "base_uri": "https://localhost:8080/"
        },
        "outputId": "38e81d85-01d8-455e-a704-162eb32dace7"
      },
      "execution_count": null,
      "outputs": [
        {
          "output_type": "stream",
          "name": "stdout",
          "text": [
            "El usuario Luis Sánchez: se ha registrado con éxito\n"
          ]
        }
      ]
    },
    {
      "cell_type": "markdown",
      "source": [
        "###Creación de cuentas bancarias"
      ],
      "metadata": {
        "id": "2LLK3KCl2Z-E"
      }
    },
    {
      "cell_type": "code",
      "source": [
        "\n",
        "cuenta1 = banco1.abrir_cuenta(usuario1)\n",
        "cuenta2 = banco1.abrir_cuenta(usuario2)\n",
        "cuenta3 = banco1.abrir_cuenta(usuario3)\n",
        "cuenta4 = banco1.abrir_cuenta(usuario4)\n",
        "cuenta5 = banco1.abrir_cuenta(usuario5)\n",
        "cuenta6 = banco1.abrir_cuenta(usuario6)\n",
        "cuenta7 = banco1.abrir_cuenta(usuario7)\n",
        "cuenta8 = banco1.abrir_cuenta(usuario8)\n",
        "cuenta9 = banco1.abrir_cuenta(usuario9)\n",
        "cuenta10 = banco1.abrir_cuenta(usuario10)"
      ],
      "metadata": {
        "id": "1YiyMj4G2ZRL",
        "colab": {
          "base_uri": "https://localhost:8080/",
          "height": 332
        },
        "outputId": "9cbbb155-949f-47c6-e8b3-e6d46311a6f4"
      },
      "execution_count": null,
      "outputs": [
        {
          "output_type": "error",
          "ename": "NameError",
          "evalue": "name 'CuentaBancaria' is not defined",
          "traceback": [
            "\u001b[0;31m---------------------------------------------------------------------------\u001b[0m",
            "\u001b[0;31mNameError\u001b[0m                                 Traceback (most recent call last)",
            "\u001b[0;32m/tmp/ipython-input-3502000482.py\u001b[0m in \u001b[0;36m<cell line: 0>\u001b[0;34m()\u001b[0m\n\u001b[0;32m----> 1\u001b[0;31m \u001b[0mcuenta1\u001b[0m \u001b[0;34m=\u001b[0m \u001b[0mbanco1\u001b[0m\u001b[0;34m.\u001b[0m\u001b[0mabrir_cuenta\u001b[0m\u001b[0;34m(\u001b[0m\u001b[0musuario1\u001b[0m\u001b[0;34m)\u001b[0m\u001b[0;34m\u001b[0m\u001b[0;34m\u001b[0m\u001b[0m\n\u001b[0m\u001b[1;32m      2\u001b[0m \u001b[0mcuenta2\u001b[0m \u001b[0;34m=\u001b[0m \u001b[0mbanco1\u001b[0m\u001b[0;34m.\u001b[0m\u001b[0mabrir_cuenta\u001b[0m\u001b[0;34m(\u001b[0m\u001b[0musuario2\u001b[0m\u001b[0;34m)\u001b[0m\u001b[0;34m\u001b[0m\u001b[0;34m\u001b[0m\u001b[0m\n\u001b[1;32m      3\u001b[0m \u001b[0mcuenta3\u001b[0m \u001b[0;34m=\u001b[0m \u001b[0mbanco1\u001b[0m\u001b[0;34m.\u001b[0m\u001b[0mabrir_cuenta\u001b[0m\u001b[0;34m(\u001b[0m\u001b[0musuario3\u001b[0m\u001b[0;34m)\u001b[0m\u001b[0;34m\u001b[0m\u001b[0;34m\u001b[0m\u001b[0m\n\u001b[1;32m      4\u001b[0m \u001b[0mcuenta4\u001b[0m \u001b[0;34m=\u001b[0m \u001b[0mbanco1\u001b[0m\u001b[0;34m.\u001b[0m\u001b[0mabrir_cuenta\u001b[0m\u001b[0;34m(\u001b[0m\u001b[0musuario4\u001b[0m\u001b[0;34m)\u001b[0m\u001b[0;34m\u001b[0m\u001b[0;34m\u001b[0m\u001b[0m\n\u001b[1;32m      5\u001b[0m \u001b[0mcuenta5\u001b[0m \u001b[0;34m=\u001b[0m \u001b[0mbanco1\u001b[0m\u001b[0;34m.\u001b[0m\u001b[0mabrir_cuenta\u001b[0m\u001b[0;34m(\u001b[0m\u001b[0musuario5\u001b[0m\u001b[0;34m)\u001b[0m\u001b[0;34m\u001b[0m\u001b[0;34m\u001b[0m\u001b[0m\n",
            "\u001b[0;32m/tmp/ipython-input-2560578055.py\u001b[0m in \u001b[0;36mabrir_cuenta\u001b[0;34m(self, usuario)\u001b[0m\n\u001b[1;32m     17\u001b[0m           \u001b[0mnumero_cuenta\u001b[0m \u001b[0;34m=\u001b[0m \u001b[0mrandom\u001b[0m\u001b[0;34m.\u001b[0m\u001b[0mrandint\u001b[0m\u001b[0;34m(\u001b[0m\u001b[0;36m0\u001b[0m\u001b[0;34m,\u001b[0m\u001b[0;36m9\u001b[0m\u001b[0;34m)\u001b[0m\u001b[0;34m\u001b[0m\u001b[0;34m\u001b[0m\u001b[0m\n\u001b[1;32m     18\u001b[0m \u001b[0;34m\u001b[0m\u001b[0m\n\u001b[0;32m---> 19\u001b[0;31m         \u001b[0mcuenta\u001b[0m \u001b[0;34m=\u001b[0m \u001b[0mCuentaBancaria\u001b[0m\u001b[0;34m(\u001b[0m\u001b[0mnumero_cuenta\u001b[0m\u001b[0;34m,\u001b[0m \u001b[0musuario\u001b[0m\u001b[0;34m)\u001b[0m\u001b[0;34m\u001b[0m\u001b[0;34m\u001b[0m\u001b[0m\n\u001b[0m\u001b[1;32m     20\u001b[0m         \u001b[0mself\u001b[0m\u001b[0;34m.\u001b[0m\u001b[0mcuentas\u001b[0m\u001b[0;34m.\u001b[0m\u001b[0mappend\u001b[0m\u001b[0;34m(\u001b[0m\u001b[0mcuenta\u001b[0m\u001b[0;34m)\u001b[0m\u001b[0;34m\u001b[0m\u001b[0;34m\u001b[0m\u001b[0m\n\u001b[1;32m     21\u001b[0m         \u001b[0;32mreturn\u001b[0m \u001b[0mcuenta\u001b[0m\u001b[0;34m\u001b[0m\u001b[0;34m\u001b[0m\u001b[0m\n",
            "\u001b[0;31mNameError\u001b[0m: name 'CuentaBancaria' is not defined"
          ]
        }
      ]
    },
    {
      "cell_type": "markdown",
      "source": [
        "###**Transacciones**\n",
        "####**Cuenta 1**"
      ],
      "metadata": {
        "id": "sISw6JNDkHZM"
      }
    },
    {
      "cell_type": "code",
      "source": [
        "cuenta1.depositar(100000)\n",
        "cuenta1.retirar(50000)\n",
        "cuenta1.realizar_transferencia(cuenta1, cuenta6, 20000)"
      ],
      "metadata": {
        "id": "AV_VHRLCjdLq"
      },
      "execution_count": null,
      "outputs": []
    },
    {
      "cell_type": "markdown",
      "source": [
        "####**Cuenta 2**"
      ],
      "metadata": {
        "id": "rwDXlhtzn2Uh"
      }
    },
    {
      "cell_type": "code",
      "source": [
        "cuenta2.depositar(80000)\n",
        "cuenta2.retirar(20000)\n",
        "cuenta2.realizar_transferencia(cuenta2, cuenta4, 10000)"
      ],
      "metadata": {
        "id": "az28o9Aln5vJ"
      },
      "execution_count": null,
      "outputs": []
    },
    {
      "cell_type": "markdown",
      "source": [
        "####**Cuenta 3**"
      ],
      "metadata": {
        "id": "cEQahakZplKk"
      }
    },
    {
      "cell_type": "code",
      "source": [
        "cuenta3.depositar(500000)\n",
        "cuenta3.retirar(30000)\n",
        "cuenta3.realizar_transferencia(cuenta3, cuenta1, 100000)"
      ],
      "metadata": {
        "id": "wze4ykEDppFd"
      },
      "execution_count": null,
      "outputs": []
    },
    {
      "cell_type": "markdown",
      "source": [
        "####**Cuenta 4**"
      ],
      "metadata": {
        "id": "TRuUY-fyqBRC"
      }
    },
    {
      "cell_type": "code",
      "source": [
        "cuenta4.depositar(1000000)\n",
        "cuenta4.retirar(300000)\n",
        "cuenta4.realizar_transferencia(cuenta4, cuenta3, 200000)"
      ],
      "metadata": {
        "id": "pvlkeURjqFHM"
      },
      "execution_count": null,
      "outputs": []
    },
    {
      "cell_type": "markdown",
      "source": [
        "####**Cuenta 5**"
      ],
      "metadata": {
        "id": "xsgStyOAqQbV"
      }
    },
    {
      "cell_type": "code",
      "source": [
        "cuenta5.depositar(20000)\n",
        "cuenta5.retirar(5000)\n",
        "cuenta5.realizar_transferencia(cuenta5, cuenta2, 5000)"
      ],
      "metadata": {
        "id": "GJMGFIPnqTqm"
      },
      "execution_count": null,
      "outputs": []
    },
    {
      "cell_type": "markdown",
      "source": [
        "####**Cuenta 6**"
      ],
      "metadata": {
        "id": "XUDSMWPzqf6G"
      }
    },
    {
      "cell_type": "code",
      "source": [
        "cuenta6.depositar(856000)\n",
        "cuenta6.retirar(720000)\n",
        "cuenta6.realizar_transferencia(cuenta6, cuenta5, 100000)"
      ],
      "metadata": {
        "id": "j3K0c_vDqixm"
      },
      "execution_count": null,
      "outputs": []
    },
    {
      "cell_type": "markdown",
      "source": [
        "####**Cuenta 7**"
      ],
      "metadata": {
        "id": "WSLGRHAUq2QO"
      }
    },
    {
      "cell_type": "code",
      "source": [
        "cuenta7.depositar(950000)\n",
        "cuenta7.retirar(232000)\n",
        "cuenta7.realizar_transferencia(cuenta7, cuenta8, 20000)"
      ],
      "metadata": {
        "id": "ESgPKVxczWHX"
      },
      "execution_count": null,
      "outputs": []
    },
    {
      "cell_type": "markdown",
      "source": [
        "####**Cuenta 8**"
      ],
      "metadata": {
        "id": "6eergRabzxy7"
      }
    },
    {
      "cell_type": "code",
      "source": [
        "cuenta8.depositar(200000)\n",
        "cuenta8.retirar(678090)\n",
        "cuenta8.realizar_transferencia(cuenta8, cuenta9, 342000)"
      ],
      "metadata": {
        "id": "xdkP60fEz2Ra"
      },
      "execution_count": null,
      "outputs": []
    },
    {
      "cell_type": "markdown",
      "source": [
        "####**Cuenta 9**"
      ],
      "metadata": {
        "id": "siw9W5c30GNA"
      }
    },
    {
      "cell_type": "code",
      "source": [
        "cuenta9.depositar(450000)\n",
        "cuenta9.retirar(50000)\n",
        "cuenta9.realizar_transferencia(cuenta9, cuenta3, 50000)"
      ],
      "metadata": {
        "id": "wnyeMdh50I8T"
      },
      "execution_count": null,
      "outputs": []
    },
    {
      "cell_type": "markdown",
      "source": [
        "####**Cuenta 10**"
      ],
      "metadata": {
        "id": "1NVVDwjw0ckb"
      }
    },
    {
      "cell_type": "code",
      "source": [
        "cuenta10.depositar(98000)\n",
        "cuenta10.retirar(45000)\n",
        "cuenta10.realizar_transferencia(cuenta9, cuenta3, 2000)"
      ],
      "metadata": {
        "id": "obGOHwFI0fdn"
      },
      "execution_count": null,
      "outputs": []
    }
  ]
}